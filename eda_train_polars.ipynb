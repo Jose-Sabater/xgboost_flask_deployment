{
 "cells": [
  {
   "cell_type": "code",
   "execution_count": 1,
   "metadata": {},
   "outputs": [],
   "source": [
    "import polars as pl \n",
    "import os"
   ]
  },
  {
   "cell_type": "code",
   "execution_count": 2,
   "metadata": {},
   "outputs": [],
   "source": [
    "# read all csv in the data folder\n",
    "data_path = os.path.join(os.getcwd(), 'data')\n",
    "files = os.listdir(data_path)\n",
    "files = [os.path.join(data_path, f) for f in files if f.endswith('.csv')]"
   ]
  },
  {
   "cell_type": "code",
   "execution_count": 24,
   "metadata": {},
   "outputs": [],
   "source": [
    "# Define the functions\n",
    "def clean_data(df: pl.DataFrame, year: int, month: int) -> pl.DataFrame:\n",
    "    df = df.filter((pl.col(\"passenger_count\") > 0) &\n",
    "                   (pl.col(\"trip_distance\") > 0) &\n",
    "                   (pl.col(\"fare_amount\") > 0) &\n",
    "                   (pl.col(\"total_amount\") > 0) &\n",
    "                   (pl.col(\"year\") == year) &\n",
    "                   (pl.col(\"month\") == month))\n",
    "    return df\n",
    "\n",
    "def feature_eng(df: pl.DataFrame) -> pl.DataFrame:\n",
    "\n",
    "\n",
    "    df = df.with_columns([\n",
    "        pl.col(\"tpep_pickup_datetime\").dt.weekday().alias(\"day_of_week\"),\n",
    "        pl.col(\"tpep_pickup_datetime\").dt.week().alias(\"weeknr\"),\n",
    "        pl.col(\"tpep_pickup_datetime\").dt.hour().alias(\"hour_of_day\"),\n",
    "        pl.col(\"tpep_pickup_datetime\").dt.month().alias(\"month\"),\n",
    "        pl.col(\"tpep_pickup_datetime\").dt.year().alias(\"year\"),\n",
    "    ])\n",
    "\n",
    "    df = df.sort(\"tpep_pickup_datetime\")\n",
    "    return df\n",
    "\n"
   ]
  },
  {
   "cell_type": "code",
   "execution_count": 21,
   "metadata": {},
   "outputs": [],
   "source": [
    "X_cols= [\"trip_distance\", \"passenger_count\",\"PULocationID\",\"DOLocationID\", \"RatecodeID\", \"hour_of_day\", \"day_of_week\", \"weeknr\"]\n",
    "y_cols= [\"total_amount\"]"
   ]
  },
  {
   "cell_type": "code",
   "execution_count": 22,
   "metadata": {},
   "outputs": [],
   "source": [
    "# Process the files\n",
    "train = pl.DataFrame()\n",
    "test = pl.DataFrame()"
   ]
  },
  {
   "cell_type": "code",
   "execution_count": 27,
   "metadata": {},
   "outputs": [],
   "source": [
    "schema = {\n",
    "    \"VendorID\": pl.Int64,\n",
    "    \"tpep_pickup_datetime\": pl.Datetime,\n",
    "    \"tpep_dropoff_datetime\": pl.Datetime,\n",
    "    \"passenger_count\": pl.Int64,\n",
    "    \"trip_distance\": pl.Float64,\n",
    "    \"RatecodeID\": pl.Int64,\n",
    "    \"store_and_fwd_flag\": pl.Categorical,\n",
    "    \"PULocationID\": pl.Int64,\n",
    "    \"DOLocationID\": pl.Int64,\n",
    "    \"payment_type\": pl.Int64,\n",
    "    \"fare_amount\": pl.Float64,\n",
    "    \"extra\": pl.Float64,\n",
    "    \"mta_tax\": pl.Float64,\n",
    "    \"tip_amount\": pl.Float64,\n",
    "    \"tolls_amount\": pl.Float64,\n",
    "    \"improvement_surcharge\": pl.Float64,\n",
    "    \"total_amount\": pl.Float64,\n",
    "    \"congestion_surcharge\": pl.Float64\n",
    "}"
   ]
  },
  {
   "cell_type": "code",
   "execution_count": 29,
   "metadata": {},
   "outputs": [
    {
     "name": "stdout",
     "output_type": "stream",
     "text": [
      "reading file: d:\\Python\\General\\scania\\lambda-sagemaker\\data\\yellow_tripdata_2019-01.csv\n",
      "shape: (7667792, 18)\n",
      "used for training\n",
      "reading file: d:\\Python\\General\\scania\\lambda-sagemaker\\data\\yellow_tripdata_2019-02.csv\n",
      "shape: (7019375, 18)\n",
      "used for training\n",
      "reading file: d:\\Python\\General\\scania\\lambda-sagemaker\\data\\yellow_tripdata_2019-03.csv\n",
      "shape: (7832545, 18)\n",
      "used for training\n",
      "reading file: d:\\Python\\General\\scania\\lambda-sagemaker\\data\\yellow_tripdata_2019-04.csv\n",
      "shape: (7433139, 18)\n",
      "used for training\n",
      "reading file: d:\\Python\\General\\scania\\lambda-sagemaker\\data\\yellow_tripdata_2019-05.csv\n",
      "shape: (7565261, 18)\n",
      "used for training\n",
      "reading file: d:\\Python\\General\\scania\\lambda-sagemaker\\data\\yellow_tripdata_2019-06.csv\n",
      "shape: (6941024, 18)\n",
      "used for training\n",
      "reading file: d:\\Python\\General\\scania\\lambda-sagemaker\\data\\yellow_tripdata_2019-07.csv\n",
      "shape: (6310419, 18)\n",
      "used for training\n",
      "reading file: d:\\Python\\General\\scania\\lambda-sagemaker\\data\\yellow_tripdata_2019-08.csv\n",
      "shape: (6073357, 18)\n",
      "used for training\n",
      "reading file: d:\\Python\\General\\scania\\lambda-sagemaker\\data\\yellow_tripdata_2019-09.csv\n",
      "shape: (6567788, 18)\n",
      "used for training\n",
      "reading file: d:\\Python\\General\\scania\\lambda-sagemaker\\data\\yellow_tripdata_2019-10.csv\n",
      "shape: (7213891, 18)\n",
      "used for training\n",
      "reading file: d:\\Python\\General\\scania\\lambda-sagemaker\\data\\yellow_tripdata_2019-11.csv\n",
      "shape: (6878111, 18)\n",
      "used for training\n",
      "reading file: d:\\Python\\General\\scania\\lambda-sagemaker\\data\\yellow_tripdata_2019-12.csv\n",
      "shape: (6896317, 18)\n",
      "used for training\n",
      "reading file: d:\\Python\\General\\scania\\lambda-sagemaker\\data\\yellow_tripdata_2020-01.csv\n",
      "shape: (6405008, 18)\n",
      "used for testing\n",
      "reading file: d:\\Python\\General\\scania\\lambda-sagemaker\\data\\yellow_tripdata_2020-02.csv\n",
      "shape: (6299354, 18)\n",
      "used for testing\n",
      "reading file: d:\\Python\\General\\scania\\lambda-sagemaker\\data\\yellow_tripdata_2020-03.csv\n",
      "shape: (3007292, 18)\n",
      "used for testing\n",
      "reading file: d:\\Python\\General\\scania\\lambda-sagemaker\\data\\yellow_tripdata_2020-04.csv\n",
      "shape: (237993, 18)\n",
      "used for testing\n",
      "reading file: d:\\Python\\General\\scania\\lambda-sagemaker\\data\\yellow_tripdata_2020-05.csv\n",
      "shape: (348371, 18)\n",
      "used for testing\n",
      "reading file: d:\\Python\\General\\scania\\lambda-sagemaker\\data\\yellow_tripdata_2020-06.csv\n",
      "shape: (549760, 18)\n",
      "used for testing\n"
     ]
    }
   ],
   "source": [
    "for file in files:\n",
    "    file_year = int(file.split('tripdata_')[1].split('-')[0])\n",
    "    file_month = int(file.split('tripdata_')[1].split('-')[1].split('.')[0])\n",
    "\n",
    "    print(f\"reading file: {file}\")\n",
    "    raw = pl.read_csv(file,dtypes=schema, try_parse_dates=True)\n",
    "    print(f\"shape: {raw.shape}\")\n",
    "\n",
    "    _df = feature_eng(raw)\n",
    "    _df = clean_data(_df, year=file_year, month=file_month)\n",
    "    _df = _df.select(X_cols + y_cols)\n",
    "    _df = _df.drop_nulls()\n",
    "\n",
    "    if file_year == 2019:\n",
    "        print(f\"used for training\")\n",
    "        train = train.vstack(_df) if train.shape[0] > 0 else _df\n",
    "    else:\n",
    "        print(f\"used for testing\")\n",
    "        test = test.vstack(_df) if test.shape[0] > 0 else _df"
   ]
  },
  {
   "cell_type": "code",
   "execution_count": 30,
   "metadata": {},
   "outputs": [
    {
     "data": {
      "text/html": [
       "<div><style>\n",
       ".dataframe > thead > tr > th,\n",
       ".dataframe > tbody > tr > td {\n",
       "  text-align: right;\n",
       "}\n",
       "</style>\n",
       "<small>shape: (5, 9)</small><table border=\"1\" class=\"dataframe\"><thead><tr><th>trip_distance</th><th>passenger_count</th><th>PULocationID</th><th>DOLocationID</th><th>RatecodeID</th><th>hour_of_day</th><th>day_of_week</th><th>weeknr</th><th>total_amount</th></tr><tr><td>f64</td><td>i64</td><td>i64</td><td>i64</td><td>i64</td><td>u32</td><td>u32</td><td>u32</td><td>f64</td></tr></thead><tbody><tr><td>7.37</td><td>2</td><td>237</td><td>264</td><td>1</td><td>0</td><td>2</td><td>1</td><td>24.8</td></tr><tr><td>1.73</td><td>6</td><td>263</td><td>74</td><td>1</td><td>0</td><td>2</td><td>1</td><td>8.3</td></tr><tr><td>0.6</td><td>1</td><td>80</td><td>112</td><td>1</td><td>0</td><td>2</td><td>1</td><td>6.3</td></tr><tr><td>1.53</td><td>1</td><td>231</td><td>148</td><td>1</td><td>0</td><td>2</td><td>1</td><td>10.3</td></tr><tr><td>3.2</td><td>1</td><td>114</td><td>79</td><td>1</td><td>0</td><td>2</td><td>1</td><td>32.75</td></tr></tbody></table></div>"
      ],
      "text/plain": [
       "shape: (5, 9)\n",
       "┌────────────┬────────────┬────────────┬────────────┬───┬───────────┬───────────┬────────┬────────────┐\n",
       "│ trip_dista ┆ passenger_ ┆ PULocation ┆ DOLocation ┆ … ┆ hour_of_d ┆ day_of_we ┆ weeknr ┆ total_amou │\n",
       "│ nce        ┆ count      ┆ ID         ┆ ID         ┆   ┆ ay        ┆ ek        ┆ ---    ┆ nt         │\n",
       "│ ---        ┆ ---        ┆ ---        ┆ ---        ┆   ┆ ---       ┆ ---       ┆ u32    ┆ ---        │\n",
       "│ f64        ┆ i64        ┆ i64        ┆ i64        ┆   ┆ u32       ┆ u32       ┆        ┆ f64        │\n",
       "╞════════════╪════════════╪════════════╪════════════╪═══╪═══════════╪═══════════╪════════╪════════════╡\n",
       "│ 7.37       ┆ 2          ┆ 237        ┆ 264        ┆ … ┆ 0         ┆ 2         ┆ 1      ┆ 24.8       │\n",
       "│ 1.73       ┆ 6          ┆ 263        ┆ 74         ┆ … ┆ 0         ┆ 2         ┆ 1      ┆ 8.3        │\n",
       "│ 0.6        ┆ 1          ┆ 80         ┆ 112        ┆ … ┆ 0         ┆ 2         ┆ 1      ┆ 6.3        │\n",
       "│ 1.53       ┆ 1          ┆ 231        ┆ 148        ┆ … ┆ 0         ┆ 2         ┆ 1      ┆ 10.3       │\n",
       "│ 3.2        ┆ 1          ┆ 114        ┆ 79         ┆ … ┆ 0         ┆ 2         ┆ 1      ┆ 32.75      │\n",
       "└────────────┴────────────┴────────────┴────────────┴───┴───────────┴───────────┴────────┴────────────┘"
      ]
     },
     "execution_count": 30,
     "metadata": {},
     "output_type": "execute_result"
    }
   ],
   "source": [
    "train.head()"
   ]
  },
  {
   "attachments": {},
   "cell_type": "markdown",
   "metadata": {},
   "source": [
    "## Reflection on time saved\n",
    "### 8 Min pandas - 4min polars"
   ]
  },
  {
   "cell_type": "markdown",
   "metadata": {},
   "source": []
  }
 ],
 "metadata": {
  "kernelspec": {
   "display_name": "venv",
   "language": "python",
   "name": "python3"
  },
  "language_info": {
   "codemirror_mode": {
    "name": "ipython",
    "version": 3
   },
   "file_extension": ".py",
   "mimetype": "text/x-python",
   "name": "python",
   "nbconvert_exporter": "python",
   "pygments_lexer": "ipython3",
   "version": "3.8.10"
  },
  "orig_nbformat": 4
 },
 "nbformat": 4,
 "nbformat_minor": 2
}
